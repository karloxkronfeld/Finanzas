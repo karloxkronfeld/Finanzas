{
  "nbformat": 4,
  "nbformat_minor": 0,
  "metadata": {
    "colab": {
      "name": "LEER_URL.ipynb",
      "provenance": [],
      "collapsed_sections": [],
      "authorship_tag": "ABX9TyNL+MClIYqpZtYKW6eI8Vf2",
      "include_colab_link": true
    },
    "kernelspec": {
      "name": "python3",
      "display_name": "Python 3"
    },
    "language_info": {
      "name": "python"
    }
  },
  "cells": [
    {
      "cell_type": "markdown",
      "metadata": {
        "id": "view-in-github",
        "colab_type": "text"
      },
      "source": [
        "<a href=\"https://colab.research.google.com/github/karloxkronfeld/Finanzas/blob/main/LEER_URL.ipynb\" target=\"_parent\"><img src=\"https://colab.research.google.com/assets/colab-badge.svg\" alt=\"Open In Colab\"/></a>"
      ]
    },
    {
      "cell_type": "code",
      "execution_count": null,
      "metadata": {
        "id": "jJ6-fl0-4Qdw"
      },
      "outputs": [],
      "source": [
        "import pandas as pd\n",
        "import requests\n",
        "from pylab import *"
      ]
    },
    {
      "cell_type": "code",
      "source": [
        "def leer_pagina(url): \n",
        "\n",
        "  header = {\"User-Agent\": \"Mozilla/5.0 (X11; Linux x86_64) AppleWebKit/537.36 (KHTML, like Gecko) Chrome/50.0.2661.75 Safari/537.36\",\"X-Requested-With\": \"XMLHttpRequest\"}\n",
        "\n",
        "  r = requests.get(url, headers=header)\n",
        "  dfs = pd.read_html(r.text)\n",
        "  # dfs=dfs[-2]\n",
        "  # dfs.columns=dfs.loc[0]\n",
        "  # dfs=dfs[1:].iloc[:,1:]\n",
        "  return(dfs)"
      ],
      "metadata": {
        "id": "GIa2AevP4VBR"
      },
      "execution_count": null,
      "outputs": []
    },
    {
      "cell_type": "code",
      "source": [
        "tablas=leer_pagina(\"https://www.nasdaq.com/market-activity/stocks/screener\")"
      ],
      "metadata": {
        "id": "FYEGh43b4Vak"
      },
      "execution_count": null,
      "outputs": []
    },
    {
      "cell_type": "code",
      "source": [
        "\n"
      ],
      "metadata": {
        "id": "wwQ4W7fp4if-"
      },
      "execution_count": null,
      "outputs": []
    },
    {
      "cell_type": "code",
      "source": [
        "datos=pd.read_csv(\"nasdaq_screener_1643151171388.csv\")"
      ],
      "metadata": {
        "id": "IfE_a2AM4tj9"
      },
      "execution_count": null,
      "outputs": []
    },
    {
      "cell_type": "code",
      "source": [
        "nas100=datos.sort_values(\"Market Cap\",ascending=False)[0:101].reset_index()"
      ],
      "metadata": {
        "id": "cQcWuekbcg57"
      },
      "execution_count": null,
      "outputs": []
    },
    {
      "cell_type": "code",
      "source": [
        "sectores=nas100.Sector.unique()"
      ],
      "metadata": {
        "id": "bTvJP0EKck6U"
      },
      "execution_count": null,
      "outputs": []
    },
    {
      "cell_type": "code",
      "source": [
        "part_sectores=nas100.Sector.value_counts()"
      ],
      "metadata": {
        "id": "_W6HQCEFeEjM"
      },
      "execution_count": null,
      "outputs": []
    },
    {
      "cell_type": "code",
      "source": [
        "part_sectores"
      ],
      "metadata": {
        "colab": {
          "base_uri": "https://localhost:8080/"
        },
        "id": "-YIf4k2ajKY8",
        "outputId": "83b0a59f-121c-4b61-8c80-6594f61e2242"
      },
      "execution_count": null,
      "outputs": [
        {
          "output_type": "execute_result",
          "data": {
            "text/plain": [
              "Technology               20\n",
              "Health Care              16\n",
              "Consumer Services        13\n",
              "Finance                  12\n",
              "Consumer Non-Durables     9\n",
              "Capital Goods             8\n",
              "Energy                    5\n",
              "Miscellaneous             5\n",
              "Public Utilities          3\n",
              "Basic Industries          3\n",
              "Transportation            2\n",
              "Name: Sector, dtype: int64"
            ]
          },
          "metadata": {},
          "execution_count": 73
        }
      ]
    },
    {
      "cell_type": "code",
      "source": [
        "part_sectores.plot(kind=\"pie\",title=\"SECTORES DEL NAS100\",  autopct='%1.1f%%')"
      ],
      "metadata": {
        "colab": {
          "base_uri": "https://localhost:8080/",
          "height": 281
        },
        "id": "kx19jxv5dMo_",
        "outputId": "9f22f664-ac99-4a7b-c8cf-8e24a03e4d1d"
      },
      "execution_count": null,
      "outputs": [
        {
          "output_type": "execute_result",
          "data": {
            "text/plain": [
              "<matplotlib.axes._subplots.AxesSubplot at 0x7f14d0bbbb10>"
            ]
          },
          "metadata": {},
          "execution_count": 36
        },
        {
          "output_type": "display_data",
          "data": {
            "image/png": "[encoded data removed]",
            "text/plain": [
              "<Figure size 432x288 with 1 Axes>"
            ]
          },
          "metadata": {}
        }
      ]
    },
    {
      "cell_type": "code",
      "source": [
        "total_market=nas100[\"Market Cap\"].sum()"
      ],
      "metadata": {
        "id": "U_G_IoutgQpH"
      },
      "execution_count": null,
      "outputs": []
    },
    {
      "cell_type": "code",
      "source": [
        "porcentaje_participacion=100*nas100[\"Market Cap\"]/total_market"
      ],
      "metadata": {
        "id": "IB9FWRgZgWRQ"
      },
      "execution_count": null,
      "outputs": []
    },
    {
      "cell_type": "code",
      "source": [
        "el_porcentaje=nas100.iloc[:,[1,6]]"
      ],
      "metadata": {
        "id": "pMz--2ROhFNM"
      },
      "execution_count": null,
      "outputs": []
    },
    {
      "cell_type": "code",
      "source": [
        "el_porcentaje[\"paricipacion\"]=porcentaje_participacion"
      ],
      "metadata": {
        "colab": {
          "base_uri": "https://localhost:8080/"
        },
        "id": "eX4NT7jdhgVm",
        "outputId": "a9588a1d-8337-4a91-d552-008942c4b91e"
      },
      "execution_count": null,
      "outputs": [
        {
          "output_type": "stream",
          "name": "stderr",
          "text": [
            "/usr/local/lib/python3.7/dist-packages/ipykernel_launcher.py:1: SettingWithCopyWarning: \n",
            "A value is trying to be set on a copy of a slice from a DataFrame.\n",
            "Try using .loc[row_indexer,col_indexer] = value instead\n",
            "\n",
            "See the caveats in the documentation: https://pandas.pydata.org/pandas-docs/stable/user_guide/indexing.html#returning-a-view-versus-a-copy\n",
            "  \"\"\"Entry point for launching an IPython kernel.\n"
          ]
        }
      ]
    },
    {
      "cell_type": "code",
      "source": [
        "el_porcentaje[0:10]"
      ],
      "metadata": {
        "colab": {
          "base_uri": "https://localhost:8080/"
        },
        "id": "HSBPlLhLiP_v",
        "outputId": "7d7f9612-26eb-43af-bdf1-ab365f23753f"
      },
      "execution_count": null,
      "outputs": [
        {
          "output_type": "execute_result",
          "data": {
            "text/plain": [
              "pandas.core.frame.DataFrame"
            ]
          },
          "metadata": {},
          "execution_count": 80
        }
      ]
    },
    {
      "cell_type": "code",
      "source": [
        ""
      ],
      "metadata": {
        "id": "dM6dW8gFiQ5g"
      },
      "execution_count": null,
      "outputs": []
    }
  ]
}