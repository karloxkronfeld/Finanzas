{
  "nbformat": 4,
  "nbformat_minor": 0,
  "metadata": {
    "colab": {
      "name": "alpha_datos.ipynb",
      "provenance": [],
      "collapsed_sections": [],
      "authorship_tag": "ABX9TyPBu9EH3/KemrEhYzONoQlC",
      "include_colab_link": true
    },
    "kernelspec": {
      "name": "python3",
      "display_name": "Python 3"
    }
  },
  "cells": [
    {
      "cell_type": "markdown",
      "metadata": {
        "id": "view-in-github",
        "colab_type": "text"
      },
      "source": [
        "<a href=\"https://colab.research.google.com/github/karloxkronfeld/Finanzas/blob/main/alpha_datos.ipynb\" target=\"_parent\"><img src=\"https://colab.research.google.com/assets/colab-badge.svg\" alt=\"Open In Colab\"/></a>"
      ]
    },
    {
      "cell_type": "code",
      "metadata": {
        "id": "VlUdvxOzqufD",
        "colab": {
          "base_uri": "https://localhost:8080/"
        },
        "outputId": "043c2968-5b02-4c74-b6a2-95597ece84bb"
      },
      "source": [
        "pip install alpha_vantage"
      ],
      "execution_count": null,
      "outputs": [
        {
          "output_type": "stream",
          "text": [
            "Collecting alpha_vantage\n",
            "  Downloading https://files.pythonhosted.org/packages/ba/b4/d95f9e0eccea6732bab5a079772d453a4f0b68a9f63740d9cf320f92beaa/alpha_vantage-2.3.1-py3-none-any.whl\n",
            "Collecting aiohttp\n",
            "\u001b[?25l  Downloading https://files.pythonhosted.org/packages/88/c0/5890b4c8b04a79b7360e8fe4490feb0bb3ab179743f199f0e6220cebd568/aiohttp-3.7.4.post0-cp37-cp37m-manylinux2014_x86_64.whl (1.3MB)\n",
            "\u001b[K     |████████████████████████████████| 1.3MB 6.9MB/s \n",
            "\u001b[?25hRequirement already satisfied: requests in /usr/local/lib/python3.7/dist-packages (from alpha_vantage) (2.23.0)\n",
            "Requirement already satisfied: typing-extensions>=3.6.5 in /usr/local/lib/python3.7/dist-packages (from aiohttp->alpha_vantage) (3.7.4.3)\n",
            "Collecting yarl<2.0,>=1.0\n",
            "\u001b[?25l  Downloading https://files.pythonhosted.org/packages/f1/62/046834c5fc998c88ab2ef722f5d42122230a632212c8afa76418324f53ff/yarl-1.6.3-cp37-cp37m-manylinux2014_x86_64.whl (294kB)\n",
            "\u001b[K     |████████████████████████████████| 296kB 23.7MB/s \n",
            "\u001b[?25hRequirement already satisfied: chardet<5.0,>=2.0 in /usr/local/lib/python3.7/dist-packages (from aiohttp->alpha_vantage) (3.0.4)\n",
            "Requirement already satisfied: attrs>=17.3.0 in /usr/local/lib/python3.7/dist-packages (from aiohttp->alpha_vantage) (20.3.0)\n",
            "Collecting async-timeout<4.0,>=3.0\n",
            "  Downloading https://files.pythonhosted.org/packages/e1/1e/5a4441be21b0726c4464f3f23c8b19628372f606755a9d2e46c187e65ec4/async_timeout-3.0.1-py3-none-any.whl\n",
            "Collecting multidict<7.0,>=4.5\n",
            "\u001b[?25l  Downloading https://files.pythonhosted.org/packages/7c/a6/4123b8165acbe773d1a8dc8e3f0d1edea16d29f7de018eda769abb56bd30/multidict-5.1.0-cp37-cp37m-manylinux2014_x86_64.whl (142kB)\n",
            "\u001b[K     |████████████████████████████████| 143kB 22.4MB/s \n",
            "\u001b[?25hRequirement already satisfied: idna<3,>=2.5 in /usr/local/lib/python3.7/dist-packages (from requests->alpha_vantage) (2.10)\n",
            "Requirement already satisfied: urllib3!=1.25.0,!=1.25.1,<1.26,>=1.21.1 in /usr/local/lib/python3.7/dist-packages (from requests->alpha_vantage) (1.24.3)\n",
            "Requirement already satisfied: certifi>=2017.4.17 in /usr/local/lib/python3.7/dist-packages (from requests->alpha_vantage) (2020.12.5)\n",
            "Installing collected packages: multidict, yarl, async-timeout, aiohttp, alpha-vantage\n",
            "Successfully installed aiohttp-3.7.4.post0 alpha-vantage-2.3.1 async-timeout-3.0.1 multidict-5.1.0 yarl-1.6.3\n"
          ],
          "name": "stdout"
        }
      ]
    },
    {
      "cell_type": "code",
      "metadata": {
        "id": "RytvUeGxGTmZ"
      },
      "source": [
        "import pandas as pd\n",
        "from alpha_vantage.timeseries import TimeSeries\n",
        "from alpha_vantage.foreignexchange import ForeignExchange as fx\n",
        "import sys\n",
        "import random"
      ],
      "execution_count": null,
      "outputs": []
    },
    {
      "cell_type": "code",
      "metadata": {
        "id": "8POATK_rGTjK",
        "colab": {
          "base_uri": "https://localhost:8080/",
          "height": 340
        },
        "outputId": "23ec71f6-ee99-4235-be17-cb37e1042bb2"
      },
      "source": [
        "time=TimeSeries(key=\"000W9HI05KWAWA7B\",output_format=\"pandas\")\n",
        "data=time.get_intraday(\"EURUSD\",interval=\"1min\",outputsize=\"full\")\n",
        "ejm=fx(key=\"000W9HI05KWAWA7B\",output_format=\"pandas\")"
      ],
      "execution_count": null,
      "outputs": [
        {
          "output_type": "error",
          "ename": "ValueError",
          "evalue": "ignored",
          "traceback": [
            "\u001b[0;31m---------------------------------------------------------------------------\u001b[0m",
            "\u001b[0;31mValueError\u001b[0m                                Traceback (most recent call last)",
            "\u001b[0;32m<ipython-input-9-c7116dca108d>\u001b[0m in \u001b[0;36m<module>\u001b[0;34m()\u001b[0m\n\u001b[1;32m      1\u001b[0m \u001b[0mtime\u001b[0m\u001b[0;34m=\u001b[0m\u001b[0mTimeSeries\u001b[0m\u001b[0;34m(\u001b[0m\u001b[0mkey\u001b[0m\u001b[0;34m=\u001b[0m\u001b[0;34m\"000W9HI05KWAWA7B\"\u001b[0m\u001b[0;34m,\u001b[0m\u001b[0moutput_format\u001b[0m\u001b[0;34m=\u001b[0m\u001b[0;34m\"pandas\"\u001b[0m\u001b[0;34m)\u001b[0m\u001b[0;34m\u001b[0m\u001b[0;34m\u001b[0m\u001b[0m\n\u001b[0;32m----> 2\u001b[0;31m \u001b[0mdata\u001b[0m\u001b[0;34m=\u001b[0m\u001b[0mtime\u001b[0m\u001b[0;34m.\u001b[0m\u001b[0mget_intraday\u001b[0m\u001b[0;34m(\u001b[0m\u001b[0;34m\"RGLDOU.SWI\"\u001b[0m\u001b[0;34m,\u001b[0m\u001b[0minterval\u001b[0m\u001b[0;34m=\u001b[0m\u001b[0;34m\"1min\"\u001b[0m\u001b[0;34m,\u001b[0m\u001b[0moutputsize\u001b[0m\u001b[0;34m=\u001b[0m\u001b[0;34m\"full\"\u001b[0m\u001b[0;34m)\u001b[0m\u001b[0;34m\u001b[0m\u001b[0;34m\u001b[0m\u001b[0m\n\u001b[0m\u001b[1;32m      3\u001b[0m \u001b[0mejm\u001b[0m\u001b[0;34m=\u001b[0m\u001b[0mfx\u001b[0m\u001b[0;34m(\u001b[0m\u001b[0mkey\u001b[0m\u001b[0;34m=\u001b[0m\u001b[0;34m\"000W9HI05KWAWA7B\"\u001b[0m\u001b[0;34m,\u001b[0m\u001b[0moutput_format\u001b[0m\u001b[0;34m=\u001b[0m\u001b[0;34m\"pandas\"\u001b[0m\u001b[0;34m)\u001b[0m\u001b[0;34m\u001b[0m\u001b[0;34m\u001b[0m\u001b[0m\n",
            "\u001b[0;32m/usr/local/lib/python3.7/dist-packages/alpha_vantage/alphavantage.py\u001b[0m in \u001b[0;36m_format_wrapper\u001b[0;34m(self, *args, **kwargs)\u001b[0m\n\u001b[1;32m    217\u001b[0m         \u001b[0;32mdef\u001b[0m \u001b[0m_format_wrapper\u001b[0m\u001b[0;34m(\u001b[0m\u001b[0mself\u001b[0m\u001b[0;34m,\u001b[0m \u001b[0;34m*\u001b[0m\u001b[0margs\u001b[0m\u001b[0;34m,\u001b[0m \u001b[0;34m**\u001b[0m\u001b[0mkwargs\u001b[0m\u001b[0;34m)\u001b[0m\u001b[0;34m:\u001b[0m\u001b[0;34m\u001b[0m\u001b[0;34m\u001b[0m\u001b[0m\n\u001b[1;32m    218\u001b[0m             call_response, data_key, meta_data_key = func(\n\u001b[0;32m--> 219\u001b[0;31m                 self, *args, **kwargs)\n\u001b[0m\u001b[1;32m    220\u001b[0m             \u001b[0;32mif\u001b[0m \u001b[0;34m'json'\u001b[0m \u001b[0;32min\u001b[0m \u001b[0mself\u001b[0m\u001b[0;34m.\u001b[0m\u001b[0moutput_format\u001b[0m\u001b[0;34m.\u001b[0m\u001b[0mlower\u001b[0m\u001b[0;34m(\u001b[0m\u001b[0;34m)\u001b[0m \u001b[0;32mor\u001b[0m \u001b[0;34m'pandas'\u001b[0m\u001b[0;31m \u001b[0m\u001b[0;31m\\\u001b[0m\u001b[0;34m\u001b[0m\u001b[0;34m\u001b[0m\u001b[0m\n\u001b[1;32m    221\u001b[0m                     \u001b[0;32min\u001b[0m \u001b[0mself\u001b[0m\u001b[0;34m.\u001b[0m\u001b[0moutput_format\u001b[0m\u001b[0;34m.\u001b[0m\u001b[0mlower\u001b[0m\u001b[0;34m(\u001b[0m\u001b[0;34m)\u001b[0m\u001b[0;34m:\u001b[0m\u001b[0;34m\u001b[0m\u001b[0;34m\u001b[0m\u001b[0m\n",
            "\u001b[0;32m/usr/local/lib/python3.7/dist-packages/alpha_vantage/alphavantage.py\u001b[0m in \u001b[0;36m_call_wrapper\u001b[0;34m(self, *args, **kwargs)\u001b[0m\n\u001b[1;32m    158\u001b[0m             \u001b[0;32melse\u001b[0m\u001b[0;34m:\u001b[0m\u001b[0;34m\u001b[0m\u001b[0;34m\u001b[0m\u001b[0m\n\u001b[1;32m    159\u001b[0m                 \u001b[0murl\u001b[0m \u001b[0;34m=\u001b[0m \u001b[0;34m'{}{}'\u001b[0m\u001b[0;34m.\u001b[0m\u001b[0mformat\u001b[0m\u001b[0;34m(\u001b[0m\u001b[0murl\u001b[0m\u001b[0;34m,\u001b[0m \u001b[0mapikey_parameter\u001b[0m\u001b[0;34m)\u001b[0m\u001b[0;34m\u001b[0m\u001b[0;34m\u001b[0m\u001b[0m\n\u001b[0;32m--> 160\u001b[0;31m             \u001b[0;32mreturn\u001b[0m \u001b[0mself\u001b[0m\u001b[0;34m.\u001b[0m\u001b[0m_handle_api_call\u001b[0m\u001b[0;34m(\u001b[0m\u001b[0murl\u001b[0m\u001b[0;34m)\u001b[0m\u001b[0;34m,\u001b[0m \u001b[0mdata_key\u001b[0m\u001b[0;34m,\u001b[0m \u001b[0mmeta_data_key\u001b[0m\u001b[0;34m\u001b[0m\u001b[0;34m\u001b[0m\u001b[0m\n\u001b[0m\u001b[1;32m    161\u001b[0m         \u001b[0;32mreturn\u001b[0m \u001b[0m_call_wrapper\u001b[0m\u001b[0;34m\u001b[0m\u001b[0;34m\u001b[0m\u001b[0m\n\u001b[1;32m    162\u001b[0m \u001b[0;34m\u001b[0m\u001b[0m\n",
            "\u001b[0;32m/usr/local/lib/python3.7/dist-packages/alpha_vantage/alphavantage.py\u001b[0m in \u001b[0;36m_handle_api_call\u001b[0;34m(self, url)\u001b[0m\n\u001b[1;32m    357\u001b[0m                     'Error getting data from the api, no return was given.')\n\u001b[1;32m    358\u001b[0m             \u001b[0;32melif\u001b[0m \u001b[0;34m\"Error Message\"\u001b[0m \u001b[0;32min\u001b[0m \u001b[0mjson_response\u001b[0m\u001b[0;34m:\u001b[0m\u001b[0;34m\u001b[0m\u001b[0;34m\u001b[0m\u001b[0m\n\u001b[0;32m--> 359\u001b[0;31m                 \u001b[0;32mraise\u001b[0m \u001b[0mValueError\u001b[0m\u001b[0;34m(\u001b[0m\u001b[0mjson_response\u001b[0m\u001b[0;34m[\u001b[0m\u001b[0;34m\"Error Message\"\u001b[0m\u001b[0;34m]\u001b[0m\u001b[0;34m)\u001b[0m\u001b[0;34m\u001b[0m\u001b[0;34m\u001b[0m\u001b[0m\n\u001b[0m\u001b[1;32m    360\u001b[0m             \u001b[0;32melif\u001b[0m \u001b[0;34m\"Information\"\u001b[0m \u001b[0;32min\u001b[0m \u001b[0mjson_response\u001b[0m \u001b[0;32mand\u001b[0m \u001b[0mself\u001b[0m\u001b[0;34m.\u001b[0m\u001b[0mtreat_info_as_error\u001b[0m\u001b[0;34m:\u001b[0m\u001b[0;34m\u001b[0m\u001b[0;34m\u001b[0m\u001b[0m\n\u001b[1;32m    361\u001b[0m                 \u001b[0;32mraise\u001b[0m \u001b[0mValueError\u001b[0m\u001b[0;34m(\u001b[0m\u001b[0mjson_response\u001b[0m\u001b[0;34m[\u001b[0m\u001b[0;34m\"Information\"\u001b[0m\u001b[0;34m]\u001b[0m\u001b[0;34m)\u001b[0m\u001b[0;34m\u001b[0m\u001b[0;34m\u001b[0m\u001b[0m\n",
            "\u001b[0;31mValueError\u001b[0m: Invalid API call. Please retry or visit the documentation (https://www.alphavantage.co/documentation/) for TIME_SERIES_INTRADAY."
          ]
        }
      ]
    },
    {
      "cell_type": "code",
      "metadata": {
        "id": "GcIjeVhSGTgJ",
        "colab": {
          "base_uri": "https://localhost:8080/",
          "height": 450
        },
        "outputId": "c9370879-d67c-4335-e541-4b4da5072cd8"
      },
      "source": [
        "\n",
        "data_, meta_= ejm.get_currency_exchange_intraday(from_symbol=\"EUR\", to_symbol=\"USD\", interval='1min', outputsize='full')\n",
        "data_"
      ],
      "execution_count": null,
      "outputs": [
        {
          "output_type": "execute_result",
          "data": {
            "text/html": [
              "<div>\n",
              "<style scoped>\n",
              "    .dataframe tbody tr th:only-of-type {\n",
              "        vertical-align: middle;\n",
              "    }\n",
              "\n",
              "    .dataframe tbody tr th {\n",
              "        vertical-align: top;\n",
              "    }\n",
              "\n",
              "    .dataframe thead th {\n",
              "        text-align: right;\n",
              "    }\n",
              "</style>\n",
              "<table border=\"1\" class=\"dataframe\">\n",
              "  <thead>\n",
              "    <tr style=\"text-align: right;\">\n",
              "      <th></th>\n",
              "      <th>1. open</th>\n",
              "      <th>2. high</th>\n",
              "      <th>3. low</th>\n",
              "      <th>4. close</th>\n",
              "    </tr>\n",
              "    <tr>\n",
              "      <th>date</th>\n",
              "      <th></th>\n",
              "      <th></th>\n",
              "      <th></th>\n",
              "      <th></th>\n",
              "    </tr>\n",
              "  </thead>\n",
              "  <tbody>\n",
              "    <tr>\n",
              "      <th>2021-04-28 12:56:00</th>\n",
              "      <td>1.20688</td>\n",
              "      <td>1.20703</td>\n",
              "      <td>1.20670</td>\n",
              "      <td>1.20702</td>\n",
              "    </tr>\n",
              "    <tr>\n",
              "      <th>2021-04-28 12:55:00</th>\n",
              "      <td>1.20689</td>\n",
              "      <td>1.20713</td>\n",
              "      <td>1.20659</td>\n",
              "      <td>1.20670</td>\n",
              "    </tr>\n",
              "    <tr>\n",
              "      <th>2021-04-28 12:54:00</th>\n",
              "      <td>1.20699</td>\n",
              "      <td>1.20700</td>\n",
              "      <td>1.20670</td>\n",
              "      <td>1.20689</td>\n",
              "    </tr>\n",
              "    <tr>\n",
              "      <th>2021-04-28 12:53:00</th>\n",
              "      <td>1.20709</td>\n",
              "      <td>1.20715</td>\n",
              "      <td>1.20680</td>\n",
              "      <td>1.20690</td>\n",
              "    </tr>\n",
              "    <tr>\n",
              "      <th>2021-04-28 12:52:00</th>\n",
              "      <td>1.20690</td>\n",
              "      <td>1.20710</td>\n",
              "      <td>1.20670</td>\n",
              "      <td>1.20700</td>\n",
              "    </tr>\n",
              "    <tr>\n",
              "      <th>...</th>\n",
              "      <td>...</td>\n",
              "      <td>...</td>\n",
              "      <td>...</td>\n",
              "      <td>...</td>\n",
              "    </tr>\n",
              "    <tr>\n",
              "      <th>2021-04-27 13:01:00</th>\n",
              "      <td>1.20831</td>\n",
              "      <td>1.20832</td>\n",
              "      <td>1.20800</td>\n",
              "      <td>1.20818</td>\n",
              "    </tr>\n",
              "    <tr>\n",
              "      <th>2021-04-27 13:00:00</th>\n",
              "      <td>1.20817</td>\n",
              "      <td>1.20837</td>\n",
              "      <td>1.20790</td>\n",
              "      <td>1.20830</td>\n",
              "    </tr>\n",
              "    <tr>\n",
              "      <th>2021-04-27 12:59:00</th>\n",
              "      <td>1.20810</td>\n",
              "      <td>1.20817</td>\n",
              "      <td>1.20790</td>\n",
              "      <td>1.20800</td>\n",
              "    </tr>\n",
              "    <tr>\n",
              "      <th>2021-04-27 12:58:00</th>\n",
              "      <td>1.20805</td>\n",
              "      <td>1.20821</td>\n",
              "      <td>1.20790</td>\n",
              "      <td>1.20810</td>\n",
              "    </tr>\n",
              "    <tr>\n",
              "      <th>2021-04-27 12:57:00</th>\n",
              "      <td>1.20802</td>\n",
              "      <td>1.20810</td>\n",
              "      <td>1.20790</td>\n",
              "      <td>1.20800</td>\n",
              "    </tr>\n",
              "  </tbody>\n",
              "</table>\n",
              "<p>1440 rows × 4 columns</p>\n",
              "</div>"
            ],
            "text/plain": [
              "                     1. open  2. high   3. low  4. close\n",
              "date                                                    \n",
              "2021-04-28 12:56:00  1.20688  1.20703  1.20670   1.20702\n",
              "2021-04-28 12:55:00  1.20689  1.20713  1.20659   1.20670\n",
              "2021-04-28 12:54:00  1.20699  1.20700  1.20670   1.20689\n",
              "2021-04-28 12:53:00  1.20709  1.20715  1.20680   1.20690\n",
              "2021-04-28 12:52:00  1.20690  1.20710  1.20670   1.20700\n",
              "...                      ...      ...      ...       ...\n",
              "2021-04-27 13:01:00  1.20831  1.20832  1.20800   1.20818\n",
              "2021-04-27 13:00:00  1.20817  1.20837  1.20790   1.20830\n",
              "2021-04-27 12:59:00  1.20810  1.20817  1.20790   1.20800\n",
              "2021-04-27 12:58:00  1.20805  1.20821  1.20790   1.20810\n",
              "2021-04-27 12:57:00  1.20802  1.20810  1.20790   1.20800\n",
              "\n",
              "[1440 rows x 4 columns]"
            ]
          },
          "metadata": {
            "tags": []
          },
          "execution_count": 8
        }
      ]
    },
    {
      "cell_type": "code",
      "metadata": {
        "id": "FFbFEu80GTce",
        "colab": {
          "base_uri": "https://localhost:8080/",
          "height": 34
        },
        "outputId": "e3d43fdc-0ca0-4c4c-a090-2c09d97c4fbd"
      },
      "source": [
        "len(data_.index.day.unique())"
      ],
      "execution_count": null,
      "outputs": [
        {
          "output_type": "execute_result",
          "data": {
            "text/plain": [
              "2"
            ]
          },
          "metadata": {
            "tags": []
          },
          "execution_count": 51
        }
      ]
    },
    {
      "cell_type": "code",
      "metadata": {
        "id": "ta0SrE7EGTYo"
      },
      "source": [
        ""
      ],
      "execution_count": null,
      "outputs": []
    },
    {
      "cell_type": "code",
      "metadata": {
        "id": "RHF9tH4pGTUg"
      },
      "source": [
        "df = pd.read_csv('https://www.alphavantage.co/query?function=TIME_SERIES_INTRADAY_EXTENDED&symbol=AMZN&interval=15min&slice=year1month1&apikey=000W9HI05KWAWA7B')\n",
        "print(df)"
      ],
      "execution_count": null,
      "outputs": []
    },
    {
      "cell_type": "code",
      "metadata": {
        "id": "J2R7RN1zGTOB"
      },
      "source": [
        ""
      ],
      "execution_count": null,
      "outputs": []
    },
    {
      "cell_type": "code",
      "metadata": {
        "id": "e7ZIidzbGTK3"
      },
      "source": [
        ""
      ],
      "execution_count": null,
      "outputs": []
    },
    {
      "cell_type": "code",
      "metadata": {
        "id": "WRzJUqV7GS9F"
      },
      "source": [
        ""
      ],
      "execution_count": null,
      "outputs": []
    },
    {
      "cell_type": "code",
      "metadata": {
        "id": "hx6gTIU5MrG8"
      },
      "source": [
        "import pandas as pd\n",
        "import pandas_datareader as data"
      ],
      "execution_count": null,
      "outputs": []
    },
    {
      "cell_type": "code",
      "metadata": {
        "id": "cclXeo8bSNMS"
      },
      "source": [
        ""
      ],
      "execution_count": null,
      "outputs": []
    },
    {
      "cell_type": "code",
      "metadata": {
        "id": "vcQJinh4MrBb"
      },
      "source": [
        "datos_alpha=data.DataReader(\"EURUSD\",\"av-intraday\",\"2010-10-19\",\"2020-10-21\",api_key=\"000W9HI05KWAWA7B\")"
      ],
      "execution_count": null,
      "outputs": []
    },
    {
      "cell_type": "code",
      "metadata": {
        "id": "70oXR3FTSXhh",
        "colab": {
          "base_uri": "https://localhost:8080/",
          "height": 419
        },
        "outputId": "21484f68-d83f-4320-946d-baf99675bd08"
      },
      "source": [
        "datos_alpha"
      ],
      "execution_count": null,
      "outputs": [
        {
          "output_type": "execute_result",
          "data": {
            "text/html": [
              "<div>\n",
              "<style scoped>\n",
              "    .dataframe tbody tr th:only-of-type {\n",
              "        vertical-align: middle;\n",
              "    }\n",
              "\n",
              "    .dataframe tbody tr th {\n",
              "        vertical-align: top;\n",
              "    }\n",
              "\n",
              "    .dataframe thead th {\n",
              "        text-align: right;\n",
              "    }\n",
              "</style>\n",
              "<table border=\"1\" class=\"dataframe\">\n",
              "  <thead>\n",
              "    <tr style=\"text-align: right;\">\n",
              "      <th></th>\n",
              "      <th>open</th>\n",
              "      <th>high</th>\n",
              "      <th>low</th>\n",
              "      <th>close</th>\n",
              "      <th>volume</th>\n",
              "    </tr>\n",
              "  </thead>\n",
              "  <tbody>\n",
              "    <tr>\n",
              "      <th>2020-10-19 09:55:00</th>\n",
              "      <td>1.1784</td>\n",
              "      <td>1.1785</td>\n",
              "      <td>1.1782</td>\n",
              "      <td>1.1784</td>\n",
              "      <td>0</td>\n",
              "    </tr>\n",
              "    <tr>\n",
              "      <th>2020-10-19 09:56:00</th>\n",
              "      <td>1.1784</td>\n",
              "      <td>1.1785</td>\n",
              "      <td>1.1782</td>\n",
              "      <td>1.1784</td>\n",
              "      <td>0</td>\n",
              "    </tr>\n",
              "    <tr>\n",
              "      <th>2020-10-19 09:57:00</th>\n",
              "      <td>1.1784</td>\n",
              "      <td>1.1784</td>\n",
              "      <td>1.1781</td>\n",
              "      <td>1.1784</td>\n",
              "      <td>0</td>\n",
              "    </tr>\n",
              "    <tr>\n",
              "      <th>2020-10-19 09:58:00</th>\n",
              "      <td>1.1784</td>\n",
              "      <td>1.1784</td>\n",
              "      <td>1.1779</td>\n",
              "      <td>1.1781</td>\n",
              "      <td>0</td>\n",
              "    </tr>\n",
              "    <tr>\n",
              "      <th>2020-10-19 09:59:00</th>\n",
              "      <td>1.1783</td>\n",
              "      <td>1.1784</td>\n",
              "      <td>1.1780</td>\n",
              "      <td>1.1783</td>\n",
              "      <td>0</td>\n",
              "    </tr>\n",
              "    <tr>\n",
              "      <th>...</th>\n",
              "      <td>...</td>\n",
              "      <td>...</td>\n",
              "      <td>...</td>\n",
              "      <td>...</td>\n",
              "      <td>...</td>\n",
              "    </tr>\n",
              "    <tr>\n",
              "      <th>2020-10-20 09:50:00</th>\n",
              "      <td>1.1816</td>\n",
              "      <td>1.1818</td>\n",
              "      <td>1.1814</td>\n",
              "      <td>1.1817</td>\n",
              "      <td>0</td>\n",
              "    </tr>\n",
              "    <tr>\n",
              "      <th>2020-10-20 09:51:00</th>\n",
              "      <td>1.1817</td>\n",
              "      <td>1.1818</td>\n",
              "      <td>1.1814</td>\n",
              "      <td>1.1816</td>\n",
              "      <td>0</td>\n",
              "    </tr>\n",
              "    <tr>\n",
              "      <th>2020-10-20 09:52:00</th>\n",
              "      <td>1.1817</td>\n",
              "      <td>1.1818</td>\n",
              "      <td>1.1813</td>\n",
              "      <td>1.1816</td>\n",
              "      <td>0</td>\n",
              "    </tr>\n",
              "    <tr>\n",
              "      <th>2020-10-20 09:53:00</th>\n",
              "      <td>1.1816</td>\n",
              "      <td>1.1816</td>\n",
              "      <td>1.1813</td>\n",
              "      <td>1.1815</td>\n",
              "      <td>0</td>\n",
              "    </tr>\n",
              "    <tr>\n",
              "      <th>2020-10-20 09:54:00</th>\n",
              "      <td>1.1815</td>\n",
              "      <td>1.1815</td>\n",
              "      <td>1.1814</td>\n",
              "      <td>1.1815</td>\n",
              "      <td>0</td>\n",
              "    </tr>\n",
              "  </tbody>\n",
              "</table>\n",
              "<p>1440 rows × 5 columns</p>\n",
              "</div>"
            ],
            "text/plain": [
              "                       open    high     low   close  volume\n",
              "2020-10-19 09:55:00  1.1784  1.1785  1.1782  1.1784       0\n",
              "2020-10-19 09:56:00  1.1784  1.1785  1.1782  1.1784       0\n",
              "2020-10-19 09:57:00  1.1784  1.1784  1.1781  1.1784       0\n",
              "2020-10-19 09:58:00  1.1784  1.1784  1.1779  1.1781       0\n",
              "2020-10-19 09:59:00  1.1783  1.1784  1.1780  1.1783       0\n",
              "...                     ...     ...     ...     ...     ...\n",
              "2020-10-20 09:50:00  1.1816  1.1818  1.1814  1.1817       0\n",
              "2020-10-20 09:51:00  1.1817  1.1818  1.1814  1.1816       0\n",
              "2020-10-20 09:52:00  1.1817  1.1818  1.1813  1.1816       0\n",
              "2020-10-20 09:53:00  1.1816  1.1816  1.1813  1.1815       0\n",
              "2020-10-20 09:54:00  1.1815  1.1815  1.1814  1.1815       0\n",
              "\n",
              "[1440 rows x 5 columns]"
            ]
          },
          "metadata": {
            "tags": []
          },
          "execution_count": 59
        }
      ]
    },
    {
      "cell_type": "code",
      "metadata": {
        "id": "1vFdX6a93hj5"
      },
      "source": [
        "data.get"
      ],
      "execution_count": null,
      "outputs": []
    },
    {
      "cell_type": "code",
      "metadata": {
        "id": "qJyEKrA-A3eb",
        "colab": {
          "base_uri": "https://localhost:8080/",
          "height": 419
        },
        "outputId": "c5b0f8f9-f696-44bc-b27b-78931deac56c"
      },
      "source": [
        "data.get_data_alphavantage(\"EURUSD\",api_key=\"000W9HI05KWAWA7B\")"
      ],
      "execution_count": null,
      "outputs": [
        {
          "output_type": "execute_result",
          "data": {
            "text/html": [
              "<div>\n",
              "<style scoped>\n",
              "    .dataframe tbody tr th:only-of-type {\n",
              "        vertical-align: middle;\n",
              "    }\n",
              "\n",
              "    .dataframe tbody tr th {\n",
              "        vertical-align: top;\n",
              "    }\n",
              "\n",
              "    .dataframe thead th {\n",
              "        text-align: right;\n",
              "    }\n",
              "</style>\n",
              "<table border=\"1\" class=\"dataframe\">\n",
              "  <thead>\n",
              "    <tr style=\"text-align: right;\">\n",
              "      <th></th>\n",
              "      <th>open</th>\n",
              "      <th>high</th>\n",
              "      <th>low</th>\n",
              "      <th>close</th>\n",
              "      <th>volume</th>\n",
              "    </tr>\n",
              "  </thead>\n",
              "  <tbody>\n",
              "    <tr>\n",
              "      <th>2001-08-21</th>\n",
              "      <td>0.9136</td>\n",
              "      <td>0.9148</td>\n",
              "      <td>0.9073</td>\n",
              "      <td>0.9130</td>\n",
              "      <td>0</td>\n",
              "    </tr>\n",
              "    <tr>\n",
              "      <th>2001-08-22</th>\n",
              "      <td>0.9130</td>\n",
              "      <td>0.9239</td>\n",
              "      <td>0.9127</td>\n",
              "      <td>0.9144</td>\n",
              "      <td>0</td>\n",
              "    </tr>\n",
              "    <tr>\n",
              "      <th>2001-08-23</th>\n",
              "      <td>0.9145</td>\n",
              "      <td>0.9167</td>\n",
              "      <td>0.9096</td>\n",
              "      <td>0.9152</td>\n",
              "      <td>0</td>\n",
              "    </tr>\n",
              "    <tr>\n",
              "      <th>2001-08-24</th>\n",
              "      <td>0.9152</td>\n",
              "      <td>0.9166</td>\n",
              "      <td>0.9073</td>\n",
              "      <td>0.9131</td>\n",
              "      <td>0</td>\n",
              "    </tr>\n",
              "    <tr>\n",
              "      <th>2001-08-27</th>\n",
              "      <td>0.9134</td>\n",
              "      <td>0.9144</td>\n",
              "      <td>0.9081</td>\n",
              "      <td>0.9115</td>\n",
              "      <td>0</td>\n",
              "    </tr>\n",
              "    <tr>\n",
              "      <th>...</th>\n",
              "      <td>...</td>\n",
              "      <td>...</td>\n",
              "      <td>...</td>\n",
              "      <td>...</td>\n",
              "      <td>...</td>\n",
              "    </tr>\n",
              "    <tr>\n",
              "      <th>2020-10-14</th>\n",
              "      <td>1.1743</td>\n",
              "      <td>1.1771</td>\n",
              "      <td>1.1718</td>\n",
              "      <td>1.1747</td>\n",
              "      <td>0</td>\n",
              "    </tr>\n",
              "    <tr>\n",
              "      <th>2020-10-15</th>\n",
              "      <td>1.1747</td>\n",
              "      <td>1.1758</td>\n",
              "      <td>1.1687</td>\n",
              "      <td>1.1709</td>\n",
              "      <td>0</td>\n",
              "    </tr>\n",
              "    <tr>\n",
              "      <th>2020-10-16</th>\n",
              "      <td>1.1708</td>\n",
              "      <td>1.1746</td>\n",
              "      <td>1.1692</td>\n",
              "      <td>1.1716</td>\n",
              "      <td>0</td>\n",
              "    </tr>\n",
              "    <tr>\n",
              "      <th>2020-10-19</th>\n",
              "      <td>1.1718</td>\n",
              "      <td>1.1794</td>\n",
              "      <td>1.1701</td>\n",
              "      <td>1.1767</td>\n",
              "      <td>0</td>\n",
              "    </tr>\n",
              "    <tr>\n",
              "      <th>2020-10-20</th>\n",
              "      <td>1.1768</td>\n",
              "      <td>1.1818</td>\n",
              "      <td>1.1758</td>\n",
              "      <td>1.1811</td>\n",
              "      <td>0</td>\n",
              "    </tr>\n",
              "  </tbody>\n",
              "</table>\n",
              "<p>5000 rows × 5 columns</p>\n",
              "</div>"
            ],
            "text/plain": [
              "              open    high     low   close  volume\n",
              "2001-08-21  0.9136  0.9148  0.9073  0.9130       0\n",
              "2001-08-22  0.9130  0.9239  0.9127  0.9144       0\n",
              "2001-08-23  0.9145  0.9167  0.9096  0.9152       0\n",
              "2001-08-24  0.9152  0.9166  0.9073  0.9131       0\n",
              "2001-08-27  0.9134  0.9144  0.9081  0.9115       0\n",
              "...            ...     ...     ...     ...     ...\n",
              "2020-10-14  1.1743  1.1771  1.1718  1.1747       0\n",
              "2020-10-15  1.1747  1.1758  1.1687  1.1709       0\n",
              "2020-10-16  1.1708  1.1746  1.1692  1.1716       0\n",
              "2020-10-19  1.1718  1.1794  1.1701  1.1767       0\n",
              "2020-10-20  1.1768  1.1818  1.1758  1.1811       0\n",
              "\n",
              "[5000 rows x 5 columns]"
            ]
          },
          "metadata": {
            "tags": []
          },
          "execution_count": 23
        }
      ]
    },
    {
      "cell_type": "code",
      "metadata": {
        "id": "pwPPFje2Mq7m"
      },
      "source": [
        "datos_alpha=datos_alpha.drop(\"volume\",axis=1)"
      ],
      "execution_count": null,
      "outputs": []
    },
    {
      "cell_type": "code",
      "metadata": {
        "id": "cSJjBl2oh6_6",
        "colab": {
          "base_uri": "https://localhost:8080/",
          "height": 34
        },
        "outputId": "a55dcba6-70ea-4f01-95f5-c864fec3a7a8"
      },
      "source": [
        "datos_alpha.close.max()"
      ],
      "execution_count": null,
      "outputs": [
        {
          "output_type": "execute_result",
          "data": {
            "text/plain": [
              "1.1917"
            ]
          },
          "metadata": {
            "tags": []
          },
          "execution_count": 11
        }
      ]
    },
    {
      "cell_type": "code",
      "metadata": {
        "id": "pl6W73Yoh69C",
        "colab": {
          "base_uri": "https://localhost:8080/",
          "height": 282
        },
        "outputId": "e70f8f5e-efcd-49cf-fa30-1f59307f5537"
      },
      "source": [
        "datos_alpha[[\"high\",\"low\"]].plot()"
      ],
      "execution_count": null,
      "outputs": [
        {
          "output_type": "execute_result",
          "data": {
            "text/plain": [
              "<matplotlib.axes._subplots.AxesSubplot at 0x7fcbad8d0ba8>"
            ]
          },
          "metadata": {
            "tags": []
          },
          "execution_count": 6
        },
        {
          "output_type": "display_data",
          "data": {
            "image/png": "[encoded data removed]",
            "text/plain": [
              "<Figure size 432x288 with 1 Axes>"
            ]
          },
          "metadata": {
            "tags": [],
            "needs_background": "light"
          }
        }
      ]
    },
    {
      "cell_type": "code",
      "metadata": {
        "id": "icyPH-Vzh66K"
      },
      "source": [
        "datos_meta=pd.read_csv(\"EURUSDseptiembre.xlsx\").set_index(\"time\")\n",
        "datos_meta.index=pd.to_datetime(datos_meta.index).strftime(\"%Y-%m-%d\")"
      ],
      "execution_count": null,
      "outputs": []
    },
    {
      "cell_type": "code",
      "metadata": {
        "id": "4wUybCQ6h63Y"
      },
      "source": [
        "datos_meta=datos_meta[[\"bid\",\"ask\"]]"
      ],
      "execution_count": null,
      "outputs": []
    },
    {
      "cell_type": "code",
      "metadata": {
        "id": "dsM6rJaTh60q"
      },
      "source": [
        "datos_meta=datos_meta.groupby(\"time\").mean()"
      ],
      "execution_count": null,
      "outputs": []
    },
    {
      "cell_type": "code",
      "metadata": {
        "id": "_3N-2625RzxL"
      },
      "source": [
        "datos_meta[\"precio\"]=(datos_meta[\"bid\"]+datos_meta[\"ask\"])/2"
      ],
      "execution_count": null,
      "outputs": []
    },
    {
      "cell_type": "code",
      "metadata": {
        "id": "z-4G13n8h6yK"
      },
      "source": [
        "datos=pd.concat((datos_meta,datos_alpha),axis=1)"
      ],
      "execution_count": null,
      "outputs": []
    },
    {
      "cell_type": "code",
      "metadata": {
        "id": "KK2X7xiAh6qW",
        "colab": {
          "base_uri": "https://localhost:8080/",
          "height": 282
        },
        "outputId": "44950808-f181-48b9-d904-375b37f3852c"
      },
      "source": [
        "datos.plot()"
      ],
      "execution_count": null,
      "outputs": [
        {
          "output_type": "execute_result",
          "data": {
            "text/plain": [
              "<matplotlib.axes._subplots.AxesSubplot at 0x7fcba3b5a278>"
            ]
          },
          "metadata": {
            "tags": []
          },
          "execution_count": 32
        },
        {
          "output_type": "display_data",
          "data": {
            "image/png": "[encoded data removed]",
            "text/plain": [
              "<Figure size 432x288 with 1 Axes>"
            ]
          },
          "metadata": {
            "tags": [],
            "needs_background": "light"
          }
        }
      ]
    },
    {
      "cell_type": "code",
      "metadata": {
        "id": "hMSfLOB1wMDA",
        "colab": {
          "base_uri": "https://localhost:8080/",
          "height": 460
        },
        "outputId": "906aee7b-49f6-44f9-eaf2-cd6a03c453b8"
      },
      "source": [
        "df_dias.plot(figsize=(14,8),kind=\"line\", subplots=True, layout=(4,1), sharey=True, sharex=True)\n",
        "plt.show()"
      ],
      "execution_count": null,
      "outputs": [
        {
          "output_type": "display_data",
          "data": {
            "image/png": "[encoded data removed]",
            "text/plain": [
              "<Figure size 1008x576 with 4 Axes>"
            ]
          },
          "metadata": {
            "tags": [],
            "needs_background": "light"
          }
        }
      ]
    },
    {
      "cell_type": "code",
      "metadata": {
        "id": "XWaG55Yt6Ar0"
      },
      "source": [
        ""
      ],
      "execution_count": null,
      "outputs": []
    },
    {
      "cell_type": "code",
      "metadata": {
        "id": "OFcQAvRl7JE7"
      },
      "source": [
        "# df = pd.read_csv('https://www.alphavantage.co/query?function=TIME_SERIES_INTRADAY_EXTENDED&symbol=MJ&interval=1min&slice=year1month1&apikey=000W9HI05KWAWA7B')\n",
        "# print(df)"
      ],
      "execution_count": null,
      "outputs": []
    },
    {
      "cell_type": "code",
      "metadata": {
        "id": "X8KZzvNqzwD2"
      },
      "source": [
        "# pd.read_csv(\"https://www.alphavantage.co/query?function=FX_INTRADAY&from_symbol=EUR&to_symbol=USD&interval=5min&apikey=demo&datatype=csv\")"
      ],
      "execution_count": null,
      "outputs": []
    },
    {
      "cell_type": "code",
      "metadata": {
        "colab": {
          "base_uri": "https://localhost:8080/",
          "height": 214
        },
        "id": "MlutF4DezyI_",
        "outputId": "9eed9260-d446-41ab-96f3-ca81f9f47c2f"
      },
      "source": [
        "key=\"000W9HI05KWAWA7B\" #CLAVE GRATIS ALPHA VANTAGE\n",
        "time= TimeSeries(key=key, output_format=\"csv\") #el modulo para hacer esto, output=csv o ´pandas\"\n",
        "data,meta_data=time.get_intraday_extended(symbol=\"MJ\", interval=\"5min\", slice=\"year1month1\") #EXTENDED FUNCIONA PARA ACCIONES\n",
        "data=list(data)"
      ],
      "execution_count": null,
      "outputs": [
        {
          "output_type": "error",
          "ename": "NameError",
          "evalue": "ignored",
          "traceback": [
            "\u001b[0;31m---------------------------------------------------------------------------\u001b[0m",
            "\u001b[0;31mNameError\u001b[0m                                 Traceback (most recent call last)",
            "\u001b[0;32m<ipython-input-1-3a192a84dea2>\u001b[0m in \u001b[0;36m<module>\u001b[0;34m()\u001b[0m\n\u001b[1;32m      1\u001b[0m \u001b[0mkey\u001b[0m\u001b[0;34m=\u001b[0m\u001b[0;34m\"000W9HI05KWAWA7B\"\u001b[0m \u001b[0;31m#CLAVE GRATIS ALPHA VANTAGE\u001b[0m\u001b[0;34m\u001b[0m\u001b[0;34m\u001b[0m\u001b[0m\n\u001b[0;32m----> 2\u001b[0;31m \u001b[0mtime\u001b[0m\u001b[0;34m=\u001b[0m \u001b[0mTimeSeries\u001b[0m\u001b[0;34m(\u001b[0m\u001b[0mkey\u001b[0m\u001b[0;34m=\u001b[0m\u001b[0mkey\u001b[0m\u001b[0;34m,\u001b[0m \u001b[0moutput_format\u001b[0m\u001b[0;34m=\u001b[0m\u001b[0;34m\"csv\"\u001b[0m\u001b[0;34m)\u001b[0m \u001b[0;31m#el modulo para hacer esto, output=csv o ´pandas\"\u001b[0m\u001b[0;34m\u001b[0m\u001b[0;34m\u001b[0m\u001b[0m\n\u001b[0m\u001b[1;32m      3\u001b[0m \u001b[0mdata\u001b[0m\u001b[0;34m,\u001b[0m\u001b[0mmeta_data\u001b[0m\u001b[0;34m=\u001b[0m\u001b[0mtime\u001b[0m\u001b[0;34m.\u001b[0m\u001b[0mget_intraday_extended\u001b[0m\u001b[0;34m(\u001b[0m\u001b[0msymbol\u001b[0m\u001b[0;34m=\u001b[0m\u001b[0;34m\"MJ\"\u001b[0m\u001b[0;34m,\u001b[0m \u001b[0minterval\u001b[0m\u001b[0;34m=\u001b[0m\u001b[0;34m\"5min\"\u001b[0m\u001b[0;34m,\u001b[0m \u001b[0mslice\u001b[0m\u001b[0;34m=\u001b[0m\u001b[0;34m\"year1month1\"\u001b[0m\u001b[0;34m)\u001b[0m \u001b[0;31m#EXTENDED FUNCIONA PARA ACCIONES\u001b[0m\u001b[0;34m\u001b[0m\u001b[0;34m\u001b[0m\u001b[0m\n\u001b[1;32m      4\u001b[0m \u001b[0mdata\u001b[0m\u001b[0;34m=\u001b[0m\u001b[0mlist\u001b[0m\u001b[0;34m(\u001b[0m\u001b[0mdata\u001b[0m\u001b[0;34m)\u001b[0m\u001b[0;34m\u001b[0m\u001b[0;34m\u001b[0m\u001b[0m\n",
            "\u001b[0;31mNameError\u001b[0m: name 'TimeSeries' is not defined"
          ]
        }
      ]
    },
    {
      "cell_type": "code",
      "metadata": {
        "id": "43sfovZ7zzgU"
      },
      "source": [
        "key=\"000W9HI05KWAWA7B\"\n",
        "time= TimeSeries(key=key, output_format=\"pandas\")\n",
        "data, metadata= time.get_intraday(symbol=\"EURUSD\",interval=\"15min\")\n",
        "# data, metadata= time.get_daily_adjusted(symbol=\"BABA\",outputsize=\"full\")\n",
        "data[\"4. close\"].plot()"
      ],
      "execution_count": null,
      "outputs": []
    }
  ]
}