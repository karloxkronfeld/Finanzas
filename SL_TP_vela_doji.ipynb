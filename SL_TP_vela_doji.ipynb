{
  "nbformat": 4,
  "nbformat_minor": 0,
  "metadata": {
    "colab": {
      "provenance": [],
      "authorship_tag": "ABX9TyPSDS7ivcn2vEDChgQxKjh7",
      "include_colab_link": true
    },
    "kernelspec": {
      "name": "python3",
      "display_name": "Python 3"
    },
    "language_info": {
      "name": "python"
    }
  },
  "cells": [
    {
      "cell_type": "markdown",
      "metadata": {
        "id": "view-in-github",
        "colab_type": "text"
      },
      "source": [
        "<a href=\"https://colab.research.google.com/github/karloxkronfeld/Finanzas/blob/main/SL_TP_vela_doji.ipynb\" target=\"_parent\"><img src=\"https://colab.research.google.com/assets/colab-badge.svg\" alt=\"Open In Colab\"/></a>"
      ]
    },
    {
      "cell_type": "code",
      "source": [
        "import yfinance as yf\n",
        "import pandas as pd\n",
        "\n",
        "df = yf.download(\"^GSPC\", period=\"10y\", interval=\"1d\")\n",
        "\n",
        "def detectar_doji(open, close, high, low):\n",
        "    body_size = abs(close - open)\n",
        "    shadow_size = min(abs(open - low), abs(close - low), abs(open - high), abs(close - high))\n",
        "    return body_size <= shadow_size * 0.1\n",
        "\n",
        "df['Doji'] = [detectar_doji(row['Open'], row['Close'], row['High'], row['Low']) for _, row in df.iterrows()]\n",
        "\n",
        "# Parámetros de stop loss y take profit (en porcentaje)\n",
        "stop_loss_pct = 1.0  # 1% de pérdida máxima permitida\n",
        "take_profit_pct = 2.0  # 2% de ganancia objetivo\n",
        "\n",
        "# Variables para realizar el seguimiento de las operaciones\n",
        "operaciones_abiertas = False\n",
        "precio_compra = 0.0\n",
        "stop_loss = 0.0\n",
        "take_profit = 0.0\n",
        "operaciones_ganadoras = 0\n",
        "operaciones_perdedoras = 0\n",
        "\n",
        "for _, row in df.iterrows():\n",
        "    if row['Doji']:\n",
        "        if not operaciones_abiertas:\n",
        "            operaciones_abiertas = True\n",
        "            precio_compra = row['Close']\n",
        "            stop_loss = precio_compra - (precio_compra * stop_loss_pct / 100)\n",
        "            take_profit = precio_compra + (precio_compra * take_profit_pct / 100)\n",
        "    else:\n",
        "        if operaciones_abiertas:\n",
        "            if row['Low'] <= stop_loss:\n",
        "                operaciones_perdedoras += 1\n",
        "                operaciones_abiertas = False\n",
        "            elif row['High'] >= take_profit:\n",
        "                operaciones_ganadoras += 1\n",
        "                operaciones_abiertas = False\n",
        "\n",
        "tasa_aciertos = operaciones_ganadoras / (operaciones_ganadoras + operaciones_perdedoras)\n",
        "rendimiento_acumulado = ((operaciones_ganadoras * take_profit) - (operaciones_perdedoras * stop_loss)) / (operaciones_ganadoras + operaciones_perdedoras)\n",
        "\n",
        "print(\"Resultados:\")\n",
        "print(\"Operaciones ganadoras:\", operaciones_ganadoras)\n",
        "print(\"Operaciones perdedoras:\", operaciones_perdedoras)\n",
        "print(\"Tasa de aciertos:\", tasa_aciertos)\n",
        "print(\"Rendimiento acumulado:\", rendimiento_acumulado)\n"
      ],
      "metadata": {
        "colab": {
          "base_uri": "https://localhost:8080/"
        },
        "id": "PkgrSN5-ZRcL",
        "outputId": "4ab983c0-c22b-445f-f90b-c3be3d897215"
      },
      "execution_count": 1,
      "outputs": [
        {
          "output_type": "stream",
          "name": "stdout",
          "text": [
            "\r[*********************100%***********************]  1 of 1 completed\n",
            "Resultados:\n",
            "Operaciones ganadoras: 23\n",
            "Operaciones perdedoras: 39\n",
            "Tasa de aciertos: 0.3709677419354839\n",
            "Rendimiento acumulado: -1009.1341788999498\n"
          ]
        }
      ]
    },
    {
      "cell_type": "code",
      "source": [],
      "metadata": {
        "id": "ZjvskTDcacP4"
      },
      "execution_count": null,
      "outputs": []
    }
  ]
}