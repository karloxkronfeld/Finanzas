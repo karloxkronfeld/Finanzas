{
  "nbformat": 4,
  "nbformat_minor": 0,
  "metadata": {
    "colab": {
      "provenance": [],
      "authorship_tag": "ABX9TyOgiSvzgGOnrAvjdrVJ7GV+",
      "include_colab_link": true
    },
    "kernelspec": {
      "name": "python3",
      "display_name": "Python 3"
    },
    "language_info": {
      "name": "python"
    }
  },
  "cells": [
    {
      "cell_type": "markdown",
      "metadata": {
        "id": "view-in-github",
        "colab_type": "text"
      },
      "source": [
        "<a href=\"https://colab.research.google.com/github/karloxkronfeld/Finanzas/blob/main/dias_cont_tendencia.ipynb\" target=\"_parent\"><img src=\"https://colab.research.google.com/assets/colab-badge.svg\" alt=\"Open In Colab\"/></a>"
      ]
    },
    {
      "cell_type": "code",
      "source": [
        "import yfinance as yf\n",
        "import pandas as pd"
      ],
      "metadata": {
        "id": "4gqgA0qQVFzd"
      },
      "execution_count": 18,
      "outputs": []
    },
    {
      "cell_type": "code",
      "source": [
        "df = yf.download(\"^GSPC\", period=\"1y\", interval=\"1d\")\n",
        "\n",
        "df=df[[\"Open\",\"Adj Close\"]]\n",
        "df.columns=[\"open\",\"close\"]\n",
        "df['diferencia'] = df['close'] - df['open']\n",
        "df['cambio'] = df['diferencia'].apply(lambda x: 1 if x > 0 else (-1 if x < 0 else 0))\n",
        "df['dias_continuos'] = df.groupby((df['cambio'] != df['cambio'].shift(1)).cumsum()).cumcount() + 1"
      ],
      "metadata": {
        "id": "nnfzddoAXPMU",
        "colab": {
          "base_uri": "https://localhost:8080/"
        },
        "outputId": "06c02ced-46ec-4800-8ed8-45c0e49a3431"
      },
      "execution_count": 29,
      "outputs": [
        {
          "output_type": "stream",
          "name": "stdout",
          "text": [
            "\r[*********************100%***********************]  1 of 1 completed\n"
          ]
        },
        {
          "output_type": "stream",
          "name": "stderr",
          "text": [
            "<ipython-input-29-da5cccd89621>:5: SettingWithCopyWarning: \n",
            "A value is trying to be set on a copy of a slice from a DataFrame.\n",
            "Try using .loc[row_indexer,col_indexer] = value instead\n",
            "\n",
            "See the caveats in the documentation: https://pandas.pydata.org/pandas-docs/stable/user_guide/indexing.html#returning-a-view-versus-a-copy\n",
            "  df['diferencia'] = df['close'] - df['open']\n",
            "<ipython-input-29-da5cccd89621>:6: SettingWithCopyWarning: \n",
            "A value is trying to be set on a copy of a slice from a DataFrame.\n",
            "Try using .loc[row_indexer,col_indexer] = value instead\n",
            "\n",
            "See the caveats in the documentation: https://pandas.pydata.org/pandas-docs/stable/user_guide/indexing.html#returning-a-view-versus-a-copy\n",
            "  df['cambio'] = df['diferencia'].apply(lambda x: 1 if x > 0 else (-1 if x < 0 else 0))\n",
            "<ipython-input-29-da5cccd89621>:7: SettingWithCopyWarning: \n",
            "A value is trying to be set on a copy of a slice from a DataFrame.\n",
            "Try using .loc[row_indexer,col_indexer] = value instead\n",
            "\n",
            "See the caveats in the documentation: https://pandas.pydata.org/pandas-docs/stable/user_guide/indexing.html#returning-a-view-versus-a-copy\n",
            "  df['dias_continuos'] = df.groupby((df['cambio'] != df['cambio'].shift(1)).cumsum()).cumcount() + 1\n"
          ]
        }
      ]
    },
    {
      "cell_type": "code",
      "source": [
        "df.dias_continuos.value_counts()"
      ],
      "metadata": {
        "colab": {
          "base_uri": "https://localhost:8080/"
        },
        "id": "tR5e0DMKEeFP",
        "outputId": "340c9375-7171-4ee9-db33-bdd2905d5935"
      },
      "execution_count": 31,
      "outputs": [
        {
          "output_type": "execute_result",
          "data": {
            "text/plain": [
              "1    126\n",
              "2     64\n",
              "3     32\n",
              "4     18\n",
              "5      6\n",
              "6      4\n",
              "7      1\n",
              "Name: dias_continuos, dtype: int64"
            ]
          },
          "metadata": {},
          "execution_count": 31
        }
      ]
    },
    {
      "cell_type": "code",
      "source": [],
      "metadata": {
        "id": "07snBY05FsA-"
      },
      "execution_count": null,
      "outputs": []
    }
  ]
}