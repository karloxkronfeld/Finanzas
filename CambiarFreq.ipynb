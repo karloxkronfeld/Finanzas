{
  "nbformat": 4,
  "nbformat_minor": 0,
  "metadata": {
    "colab": {
      "name": "Untitled0.ipynb",
      "provenance": [],
      "authorship_tag": "ABX9TyMaNPO89exyM4pLFPfSL7cO",
      "include_colab_link": true
    },
    "kernelspec": {
      "name": "python3",
      "display_name": "Python 3"
    },
    "language_info": {
      "name": "python"
    }
  },
  "cells": [
    {
      "cell_type": "markdown",
      "metadata": {
        "id": "view-in-github",
        "colab_type": "text"
      },
      "source": [
        "<a href=\"https://colab.research.google.com/github/karloxkronfeld/Finanzas/blob/main/CambiarFreq.ipynb\" target=\"_parent\"><img src=\"https://colab.research.google.com/assets/colab-badge.svg\" alt=\"Open In Colab\"/></a>"
      ]
    },
    {
      "cell_type": "code",
      "metadata": {
        "id": "RvxAfn_PsN74"
      },
      "source": [
        "import pandas as pd  #9am col = 17 meta\n",
        "from pylab import *"
      ],
      "execution_count": 125,
      "outputs": []
    },
    {
      "cell_type": "code",
      "metadata": {
        "id": "okbRuVaIskF0"
      },
      "source": [
        "datos=pd.read_csv(\"EURUSDMAYO.xlsx\")\n",
        "datos=datos.iloc[:,[1,2,3]]\n",
        "datos[\"precio\"]=(datos.bid+datos.ask)/2\n",
        "datos=datos.groupby(\"time\").mean()\n",
        "datos.index=pd.to_datetime(datos.index).strftime(\"%Y-%m-%d %H:%M\")\n",
        "datos=datos.groupby(\"time\").mean()"
      ],
      "execution_count": 76,
      "outputs": []
    },
    {
      "cell_type": "code",
      "metadata": {
        "id": "6-bOI60zH7Tm"
      },
      "source": [
        "datos.index=pd.DatetimeIndex(datos.index)"
      ],
      "execution_count": 128,
      "outputs": []
    },
    {
      "cell_type": "code",
      "metadata": {
        "colab": {
          "base_uri": "https://localhost:8080/",
          "height": 450
        },
        "id": "HFicbBkmEv-m",
        "outputId": "3944c07a-c20e-4e97-fada-8f21a4849774"
      },
      "source": [
        "datos.resample(\"15min\").asfreq()"
      ],
      "execution_count": 130,
      "outputs": [
        {
          "output_type": "execute_result",
          "data": {
            "text/html": [
              "<div>\n",
              "<style scoped>\n",
              "    .dataframe tbody tr th:only-of-type {\n",
              "        vertical-align: middle;\n",
              "    }\n",
              "\n",
              "    .dataframe tbody tr th {\n",
              "        vertical-align: top;\n",
              "    }\n",
              "\n",
              "    .dataframe thead th {\n",
              "        text-align: right;\n",
              "    }\n",
              "</style>\n",
              "<table border=\"1\" class=\"dataframe\">\n",
              "  <thead>\n",
              "    <tr style=\"text-align: right;\">\n",
              "      <th></th>\n",
              "      <th>bid</th>\n",
              "      <th>ask</th>\n",
              "      <th>precio</th>\n",
              "    </tr>\n",
              "    <tr>\n",
              "      <th>time</th>\n",
              "      <th></th>\n",
              "      <th></th>\n",
              "      <th></th>\n",
              "    </tr>\n",
              "  </thead>\n",
              "  <tbody>\n",
              "    <tr>\n",
              "      <th>2021-05-03 00:00:00</th>\n",
              "      <td>1.202990</td>\n",
              "      <td>1.203493</td>\n",
              "      <td>1.203241</td>\n",
              "    </tr>\n",
              "    <tr>\n",
              "      <th>2021-05-03 00:15:00</th>\n",
              "      <td>1.202534</td>\n",
              "      <td>1.203220</td>\n",
              "      <td>1.202877</td>\n",
              "    </tr>\n",
              "    <tr>\n",
              "      <th>2021-05-03 00:30:00</th>\n",
              "      <td>1.202695</td>\n",
              "      <td>1.203037</td>\n",
              "      <td>1.202866</td>\n",
              "    </tr>\n",
              "    <tr>\n",
              "      <th>2021-05-03 00:45:00</th>\n",
              "      <td>1.202683</td>\n",
              "      <td>1.203075</td>\n",
              "      <td>1.202879</td>\n",
              "    </tr>\n",
              "    <tr>\n",
              "      <th>2021-05-03 01:00:00</th>\n",
              "      <td>1.202548</td>\n",
              "      <td>1.202698</td>\n",
              "      <td>1.202623</td>\n",
              "    </tr>\n",
              "    <tr>\n",
              "      <th>...</th>\n",
              "      <td>...</td>\n",
              "      <td>...</td>\n",
              "      <td>...</td>\n",
              "    </tr>\n",
              "    <tr>\n",
              "      <th>2021-05-31 15:45:00</th>\n",
              "      <td>1.220103</td>\n",
              "      <td>1.220114</td>\n",
              "      <td>1.220109</td>\n",
              "    </tr>\n",
              "    <tr>\n",
              "      <th>2021-05-31 16:00:00</th>\n",
              "      <td>1.219931</td>\n",
              "      <td>1.219934</td>\n",
              "      <td>1.219933</td>\n",
              "    </tr>\n",
              "    <tr>\n",
              "      <th>2021-05-31 16:15:00</th>\n",
              "      <td>1.219996</td>\n",
              "      <td>1.220009</td>\n",
              "      <td>1.220002</td>\n",
              "    </tr>\n",
              "    <tr>\n",
              "      <th>2021-05-31 16:30:00</th>\n",
              "      <td>1.219873</td>\n",
              "      <td>1.219888</td>\n",
              "      <td>1.219881</td>\n",
              "    </tr>\n",
              "    <tr>\n",
              "      <th>2021-05-31 16:45:00</th>\n",
              "      <td>1.219581</td>\n",
              "      <td>1.219584</td>\n",
              "      <td>1.219583</td>\n",
              "    </tr>\n",
              "  </tbody>\n",
              "</table>\n",
              "<p>2756 rows × 3 columns</p>\n",
              "</div>"
            ],
            "text/plain": [
              "                          bid       ask    precio\n",
              "time                                             \n",
              "2021-05-03 00:00:00  1.202990  1.203493  1.203241\n",
              "2021-05-03 00:15:00  1.202534  1.203220  1.202877\n",
              "2021-05-03 00:30:00  1.202695  1.203037  1.202866\n",
              "2021-05-03 00:45:00  1.202683  1.203075  1.202879\n",
              "2021-05-03 01:00:00  1.202548  1.202698  1.202623\n",
              "...                       ...       ...       ...\n",
              "2021-05-31 15:45:00  1.220103  1.220114  1.220109\n",
              "2021-05-31 16:00:00  1.219931  1.219934  1.219933\n",
              "2021-05-31 16:15:00  1.219996  1.220009  1.220002\n",
              "2021-05-31 16:30:00  1.219873  1.219888  1.219881\n",
              "2021-05-31 16:45:00  1.219581  1.219584  1.219583\n",
              "\n",
              "[2756 rows x 3 columns]"
            ]
          },
          "metadata": {
            "tags": []
          },
          "execution_count": 130
        }
      ]
    },
    {
      "cell_type": "code",
      "metadata": {
        "id": "pT3cSu60Fmdi"
      },
      "source": [
        ""
      ],
      "execution_count": null,
      "outputs": []
    }
  ]
}